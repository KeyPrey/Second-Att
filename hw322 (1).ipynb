{
 "cells": [
  {
   "cell_type": "code",
   "execution_count": 1,
   "id": "b53d5dea-63f7-4845-be85-d01dd0b3b8b7",
   "metadata": {},
   "outputs": [
    {
     "name": "stdout",
     "output_type": "stream",
     "text": [
      "[[4 1 1]\n",
      " [6 2 2]\n",
      " [3 0 6]]\n",
      "                Precision   Recall      F1-score    Support\n",
      "C               0.308       0.667       0.421       6\n",
      "F               0.667       0.200       0.308       10\n",
      "H               0.667       0.667       0.667       9\n",
      "Accuracy:                               0.480       25\n",
      "Macro avg:      0.547       0.511       0.465       25\n",
      "Weighted avg:   0.581       0.480       0.464       25\n"
     ]
    }
   ],
   "source": [
    "import numpy as np\n",
    "\n",
    "# Исходные данные\n",
    "y_true = ['C', 'C', 'C', 'C', 'C', 'C', 'F', 'F', 'F', 'F', 'F', 'F', 'F', 'F', 'F', 'F', 'H', 'H', 'H', 'H', 'H', 'H', 'H', 'H', 'H']\n",
    "y_pred = ['C', 'C', 'C', 'C', 'H', 'F', 'C', 'C', 'C', 'C', 'C', 'C', 'H', 'H', 'F', 'F', 'C', 'C', 'C', 'H', 'H', 'H', 'H', 'H', 'H']\n",
    "\n",
    "classes = ['C', 'F', 'H']\n",
    "confusion_matrix = np.zeros((len(classes), len(classes)), dtype=int)\n",
    "\n",
    "# Создание матрицы ошибок\n",
    "for true, pred in zip(y_true, y_pred):\n",
    "    i = classes.index(true)\n",
    "    j = classes.index(pred)\n",
    "    confusion_matrix[i, j] += 1\n",
    "\n",
    "# Вывод матрицы ошибок\n",
    "print(confusion_matrix)\n",
    "\n",
    "# Вывод метрик\n",
    "print(\"                Precision   Recall      F1-score    Support\")\n",
    "\n",
    "# Расчет метрик для каждого класса\n",
    "precisions = []\n",
    "recalls = []\n",
    "f1_scores = []\n",
    "supports = []\n",
    "\n",
    "for i, c in enumerate(classes):\n",
    "    tp = confusion_matrix[i, i]\n",
    "    fp = sum(confusion_matrix[:, i]) - tp\n",
    "    fn = sum(confusion_matrix[i, :]) - tp\n",
    "\n",
    "    precision = tp / (tp + fp)\n",
    "    recall = tp / (tp + fn)\n",
    "    f1_score = 2 * (precision * recall) / (precision + recall)\n",
    "    support = sum(confusion_matrix[i, :])\n",
    "    \n",
    "    precisions.append(precision)\n",
    "    recalls.append(recall)\n",
    "    f1_scores.append(f1_score)\n",
    "    supports.append(support)\n",
    "\n",
    "    print(f\"{c: <16}{precision: <12.3f}{recall: <12.3f}{f1_score: <12.3f}{support}\")\n",
    "\n",
    "# Расчет общих метрик\n",
    "accuracy = np.trace(confusion_matrix) / np.sum(confusion_matrix)\n",
    "macro_avg_precision = np.mean(precisions)\n",
    "macro_avg_recall = np.mean(recalls)\n",
    "macro_avg_f1 = np.mean(f1_scores)\n",
    "\n",
    "weighted_avg_precision = np.average(precisions, weights=supports)\n",
    "weighted_avg_recall = np.average(recalls, weights=supports)\n",
    "weighted_avg_f1 = np.average(f1_scores, weights=supports)\n",
    "\n",
    "print(f\"{'Accuracy:': <16}{'': <12}{'': <12}{accuracy: <12.3f}{np.sum(confusion_matrix)}\")\n",
    "print(f\"{'Macro avg:': <16}{macro_avg_precision: <12.3f}{macro_avg_recall: <12.3f}{macro_avg_f1: <12.3f}{np.sum(confusion_matrix)}\")\n",
    "print(f\"{'Weighted avg:': <16}{weighted_avg_precision: <12.3f}{weighted_avg_recall: <12.3f}{weighted_avg_f1: <12.3f}{np.sum(confusion_matrix)}\")"
   ]
  },
  {
   "cell_type": "code",
   "execution_count": null,
   "id": "3fc9aba6-8d97-427a-9f11-f7b1cf4efce7",
   "metadata": {},
   "outputs": [],
   "source": []
  }
 ],
 "metadata": {
  "kernelspec": {
   "display_name": "Python 3 (ipykernel)",
   "language": "python",
   "name": "python3"
  },
  "language_info": {
   "codemirror_mode": {
    "name": "ipython",
    "version": 3
   },
   "file_extension": ".py",
   "mimetype": "text/x-python",
   "name": "python",
   "nbconvert_exporter": "python",
   "pygments_lexer": "ipython3",
   "version": "3.11.2"
  }
 },
 "nbformat": 4,
 "nbformat_minor": 5
}
